{
 "cells": [
  {
   "cell_type": "markdown",
   "metadata": {},
   "source": [
    "Copyright 2021 The iStructure Authors."
   ]
  },
  {
   "cell_type": "markdown",
   "metadata": {},
   "source": [
    "<div align=\"center\">\n",
    "    <h1><b>Mezzanine Area Schemes</b></h1>\n",
    "</div>\n",
    "\n",
    "## __Introduction__\n",
    "\n",
    "In this tutorial, you will learn how to create areas in iStructure. First, we start by importing the required modules."
   ]
  },
  {
   "cell_type": "code",
   "execution_count": 2,
   "metadata": {},
   "outputs": [],
   "source": [
    "from iStructure.Architect.Schemes.Areas import Mezzanine"
   ]
  },
  {
   "cell_type": "markdown",
   "metadata": {},
   "source": [
    "## __1. Basic module__\n",
    "\n",
    "The mezzanine class allow you to create different schemes per floor classification. For this basic example, we will create a $3 [m]$ by $3 [m]$ module, with a height of $2.5 [m]$ and a joist separation of $0.5 [m]$. It will have only one floor. There are two forms to create it, as shown next."
   ]
  },
  {
   "cell_type": "code",
   "execution_count": 5,
   "metadata": {},
   "outputs": [
    {
     "data": {
      "image/png": "[encoded data removed]",
      "text/plain": [
       "<Figure size 432x288 with 1 Axes>"
      ]
     },
     "metadata": {
      "needs_background": "light"
     },
     "output_type": "display_data"
    }
   ],
   "source": [
    "#1. Create floor and then the modules\n",
    "mz = Mezzanine(0)\n",
    "mz.addFloor()    #You have created a floor, with reference 0 (numFloor = 0)\n",
    "\n",
    "#Now, we add the module to the floor 0, with its dimensions.\n",
    "#addModule(numFloor, length, width, height, joist_sep, pos)\n",
    "mz.addModule(0, 3, 3, 3, 0.5, [0,0]) \n",
    "\n",
    "#We can now create the matplotlib scheme(plot=True) of the structure. \n",
    "#It will plot the scheme by default, unless you specify the \"plot\" argument as false when calling the method.\n",
    "#The scheme method will return the figure (matplotlib object) of the structure\n",
    "fig = mz.scheme()"
   ]
  },
  {
   "cell_type": "markdown",
   "metadata": {},
   "source": [
    "You can also create the area in a more direct way, for example:"
   ]
  },
  {
   "cell_type": "code",
   "execution_count": 6,
   "metadata": {},
   "outputs": [
    {
     "data": {
      "image/png": "[encoded data removed]",
      "text/plain": [
       "<Figure size 432x288 with 1 Axes>"
      ]
     },
     "metadata": {
      "needs_background": "light"
     },
     "output_type": "display_data"
    }
   ],
   "source": [
    "#2. Direct floor and modules creation\n",
    "mz = Mezzanine(0)\n",
    "mz.addFloor(modules = [{\"length\":3, \"width\":3, \"height\":2.5, \"joist_sep\":0.5, \"pos\": [0,0]}])\n",
    "\n",
    "fig = mz.scheme()"
   ]
  },
  {
   "cell_type": "markdown",
   "metadata": {},
   "source": [
    "## __2. One floor structure__\n",
    "\n",
    "Lets suppose that we want a more complex structure distribution. For example, we want a one floor structure of five modules distributed in three columns and two rows. For simplicity, each module will have the same dimensions as the module of chapter 1, excepting one."
   ]
  },
  {
   "cell_type": "code",
   "execution_count": 7,
   "metadata": {},
   "outputs": [
    {
     "data": {
      "image/png": "[encoded data removed]",
      "text/plain": [
       "<Figure size 432x288 with 1 Axes>"
      ]
     },
     "metadata": {
      "needs_background": "light"
     },
     "output_type": "display_data"
    }
   ],
   "source": [
    "mz = Mezzanine(0)\n",
    "mz.addFloor(modules = [\n",
    "    {\"length\":3, \"width\":3, \"height\":2.5, \"joist_sep\":0.5, \"pos\": [0,0]},\n",
    "    {\"length\":3, \"width\":3, \"height\":2.5, \"joist_sep\":0.5, \"pos\": [3,0]},\n",
    "    {\"length\":3, \"width\":3, \"height\":2.5, \"joist_sep\":0.5, \"pos\": [6,0]},\n",
    "    {\"length\":3, \"width\":3, \"height\":2.5, \"joist_sep\":0.5, \"pos\": [0,3]},\n",
    "    {\"length\":2.22, \"width\":4.367, \"height\":2.5, \"joist_sep\":0.325, \"pos\": [4,3]}\n",
    "])\n",
    "\n",
    "fig = mz.scheme()"
   ]
  },
  {
   "cell_type": "code",
   "execution_count": 10,
   "metadata": {},
   "outputs": [
    {
     "data": {
      "image/png": "[encoded data removed]",
      "text/plain": [
       "<Figure size 432x288 with 1 Axes>"
      ]
     },
     "metadata": {
      "needs_background": "light"
     },
     "output_type": "display_data"
    }
   ],
   "source": [
    "mz = Mezzanine(0)\n",
    "\n",
    "mz.addFloor(modules=[\n",
    "    {\"length\":3, \"width\":3, \"height\":2.5, \"joist_sep\":0.5, \"pos\": [0,0]},\n",
    "    {\"length\":3, \"width\":3, \"height\":2.5, \"joist_sep\":0.5, \"pos\": [3,0]},\n",
    "    {\"length\":3, \"width\":3, \"height\":2.5, \"joist_sep\":0.5, \"pos\": [6,0]},\n",
    "    {\"length\":3, \"width\":3, \"height\":2.5, \"joist_sep\":0.5, \"pos\": [0,3]},\n",
    "    {\"length\":3, \"width\":3, \"height\":2.5, \"joist_sep\":0.5, \"pos\": [6,3]}\n",
    "])\n",
    "\n",
    "fig = mz.scheme()"
   ]
  },
  {
   "cell_type": "markdown",
   "metadata": {},
   "source": [
    "## __3. Multiple floors__\n",
    "\n",
    "You can create structures which has multiple floors. For this example, we will create a three floor structure."
   ]
  },
  {
   "cell_type": "code",
   "execution_count": null,
   "metadata": {},
   "outputs": [],
   "source": [
    "mz = Mezzanine(0)\n",
    "\n",
    "mz.addFloor(modules=[\n",
    "    {\"length\":3, \"width\":3, \"height\":2.5, \"joist_sep\":0.5, \"pos\": [0,0]},\n",
    "    {\"length\":3, \"width\":3, \"height\":2.5, \"joist_sep\":0.5, \"pos\": [3,0]},\n",
    "    {\"length\":3, \"width\":3, \"height\":2.5, \"joist_sep\":0.5, \"pos\": [6,0]},\n",
    "    {\"length\":3, \"width\":3, \"height\":2.5, \"joist_sep\":0.5, \"pos\": [0,3]},\n",
    "    {\"length\":3, \"width\":3, \"height\":2.5, \"joist_sep\":0.5, \"pos\": [3,3]},\n",
    "    {\"length\":3, \"width\":3, \"height\":2.5, \"joist_sep\":0.5, \"pos\": [6,3]},\n",
    "    {\"length\":3, \"width\":3, \"height\":2.5, \"joist_sep\":0.5, \"pos\": [0,6]},\n",
    "    {\"length\":3, \"width\":3, \"height\":2.5, \"joist_sep\":0.5, \"pos\": [3,6]},\n",
    "    {\"length\":3, \"width\":3, \"height\":2.5, \"joist_sep\":0.5, \"pos\": [6,6]}\n",
    "])\n",
    "\n",
    "mz.addFloor(modules=[\n",
    "    {\"length\":3, \"width\":3, \"height\":2.5, \"joist_sep\":0.5, \"pos\": [0,0]},\n",
    "    {\"length\":5, \"width\":3, \"height\":2.5, \"joist_sep\":0.5, \"pos\": [3,0]},\n",
    "    {\"length\":3, \"width\":3, \"height\":2.5, \"joist_sep\":0.5, \"pos\": [6,0]},\n",
    "    {\"length\":3, \"width\":3, \"height\":2.5, \"joist_sep\":0.5, \"pos\": [0,3]},\n",
    "    {\"length\":3, \"width\":3, \"height\":2.5, \"joist_sep\":0.5, \"pos\": [6,3]}\n",
    "])\n",
    "\n",
    "mz.addFloor(modules=[\n",
    "    {\"length\":3, \"width\":3, \"height\":2.5, \"joist_sep\":0.5, \"pos\": [0,0]},\n",
    "    {\"length\":3, \"width\":3, \"height\":2.5, \"joist_sep\":0.5, \"pos\": [6,0]},\n",
    "    {\"length\":3, \"width\":3, \"height\":2.5, \"joist_sep\":0.5, \"pos\": [0,3]},\n",
    "    {\"length\":3, \"width\":3, \"height\":2.5, \"joist_sep\":0.5, \"pos\": [6,3]}\n",
    "])\n",
    "\n",
    "fig = mz.scheme()"
   ]
  }
 ],
 "metadata": {
  "kernelspec": {
   "display_name": "Python 3",
   "language": "python",
   "name": "python3"
  },
  "language_info": {
   "codemirror_mode": {
    "name": "ipython",
    "version": 3
   },
   "file_extension": ".py",
   "mimetype": "text/x-python",
   "name": "python",
   "nbconvert_exporter": "python",
   "pygments_lexer": "ipython3",
   "version": "3.8.3"
  }
 },
 "nbformat": 4,
 "nbformat_minor": 4
}
